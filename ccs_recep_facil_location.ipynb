{
 "cells": [
  {
   "cell_type": "markdown",
   "id": "3c9c1e62-a389-4b47-925b-dc96c8e37336",
   "metadata": {},
   "source": [
    "# CCS reception facility location problem"
   ]
  },
  {
   "cell_type": "code",
   "execution_count": 1,
   "id": "fafb1e9f-5e7b-4cf7-8a5f-9f755cc850e5",
   "metadata": {},
   "outputs": [
    {
     "name": "stdout",
     "output_type": "stream",
     "text": [
      "Using the license file found in your Xpress installation. If you want to use this license and no longer want to see this message, use the following code before using the xpress module:\n",
      "  xpress.init('/Applications/FICO Xpress/xpressmp/bin/xpauth.xpr')\n"
     ]
    }
   ],
   "source": [
    "import xpress as xp\n",
    "import pandas as pd\n",
    "import time\n",
    "import matplotlib.pyplot as plt\n",
    "\n",
    "xp.init('/Applications/FICO Xpress/xpressmp/bin/xpauth.xpr')\n",
    "xp.controls.outputlog = 0"
   ]
  },
  {
   "cell_type": "markdown",
   "id": "afe03cbb-18bd-4f87-86e5-2a322101c1a2",
   "metadata": {},
   "source": [
    "# Locating carbon capture reception facilities along major trade routes\n",
    "\n",
    "Onboard carbon capture and storage (CCS) is one potential way forward for reducing CO2 emission from shipping. Carbon is extracted from the ship´s exhaust gases, and stored onboard until these tanks can be emptied at a CCS reception facility, and further transported to the long term storage site.\n",
    "\n",
    "The CCS tanks will require space onboard, and ultimately reduce the cargo carrier capacity of the vessel. This call for frequent unloading of CO2, and many facilities. On the other hand, such facilities are costly to establish and operate, calling for few facilities. Thus, we need to strike a balance.\n",
    "\n",
    "In the basis model, we capture a vessel sailing along a fixed route with varying inter-port distances. The main decision variable is to determine the optimal location of reception facility points. "
   ]
  },
  {
   "cell_type": "markdown",
   "id": "57d61f80-7a9b-40a2-989c-bd69c83e5c7b",
   "metadata": {},
   "source": [
    "### Sets\n",
    "\n",
    "$P$ Set of ports (nodes), indexed by $p$\n",
    "\n",
    "$A$ Set of sailings (arcs) between bunkering ports, index by $a$, $(i,j)$ \n",
    "\n",
    "### Parameters\n",
    "\n",
    "$C^R$ - Cost of establishing the bunkering terminal at the port (MU)\n",
    "\n",
    "$C^O$ - Lost opportunity cost due to the volume of fuel occupying space that could have been used for cargo\n",
    "\n",
    "$d_{ij}$ - Distance between port $i$ and port $j$\n",
    "\n",
    "### Variables\n",
    "\n",
    "$x_p$ - 1 if a reception facility is established in port $p$, 0 otherwise\n",
    "\n",
    "$y_{ij}$ - 1 if the ship sails from $i$ to $j$ before unloading CO2, 0 otherwise\n",
    "\n",
    "$z$ - The longest distance sailed before being able to unload CO2\n",
    "\n",
    "### Objective function\n",
    "\n",
    "$$ min \\sum_{p\\in P} C^r x_i + C^{loc} z$$\n",
    "\n",
    "### Constraints\n",
    "\n",
    "$$\\sum_{s,j\\in P/\\{s\\}} = 1$$\n",
    "\n",
    "$$\\sum_{j\\in P/\\{e\\},e} = 1$$\n",
    "\n",
    "$$\\sum_{(i,j)\\in A} y_{i,j} <= x_i, a\\in A$$\n",
    "\n",
    "$$\\sum_{(i,j)\\in A} y_{i,j} - \\sum_{(j,k)\\in A} y_{j,k} = 0, j\\in P/\\{s,e\\}$$\n",
    "\n",
    "$$d_{ij} y_{ij} <= z$$\n",
    "\n",
    "$$x_{p} \\in \\{0,1\\}, p\\in P$$\n",
    "\n",
    "$$y_{ij} \\in \\{0,1\\}, (ij)\\in A$$"
   ]
  },
  {
   "cell_type": "code",
   "execution_count": 1,
   "id": "a2cb970f-dc85-4ee5-9fb2-a4c685c93d37",
   "metadata": {},
   "outputs": [],
   "source": [
    "def ccs_model(Cr,Cloc,legs):\n",
    "\n",
    "    nP = len(legs)+1\n",
    "    P = [p for p in range(nP)]\n",
    "    A = [(i,j) for i in range(nP) for j in range(i+1,nP)]\n",
    "    \n",
    "    d = {a:sum(legs[a[0]:a[1]]) for a in A}\n",
    "    \n",
    "    s = P[0] # Start node\n",
    "    e = P[-1] # End node\n",
    "    \n",
    "    m = xp.problem()\n",
    "\n",
    "    x = [xp.var (vartype = xp.binary, name='x{0}'.format (p)) for p in P]\n",
    "    y = {a: xp.var (vartype = xp.binary, name='y{0}{1}'.format (a[0],a[1])) for a in A}\n",
    "    z = xp.var()\n",
    "    m.addVariable(x,y,z)\n",
    "    \n",
    "    # Objective: Min ccs facility establishment cost and lost opportunity cost\n",
    "    m.setObjective(xp.Sum(Cr*x[i] for i in P) + Cloc*z, sense = xp.minimize)\n",
    "    \n",
    "    # Must start from node s and end in node e\n",
    "    c1 = xp.Sum(y[(s,j)] for j in P if j is not s) == 1\n",
    "    c2 = xp.Sum(y[(i,e)] for i in P if i is not e) == 1\n",
    "\n",
    "    # CCS capturing sailings only between cc reception nodes\n",
    "    # c3/c4 can be omitted if reception point not required in s/e\n",
    "    c3 = [y[(a[0],a[1])] <= x[a[0]] for a in A]\n",
    "    c4 = [y[(a[0],a[1])] <= x[a[1]] for a in A]\n",
    "\n",
    "    c5 = [xp.Sum(y[(a[0],j)] for a in A if a[1] is j) \\\n",
    "          - xp.Sum(y[(j, a[1])] for a in A if a[0] is j) == 0 \\\n",
    "          for j in P if j not in [s,e]]\n",
    "\n",
    "    c6 = [d[(a[0],a[1])] * y[(a[0],a[1])] <= z for (i,j) in A]\n",
    "\n",
    "    m.addConstraint(c1,c2,c3,c4,c5,c6)\n",
    "    \n",
    "    m.solve()\n",
    "    \n",
    "    return m,x,y,z,d"
   ]
  },
  {
   "cell_type": "code",
   "execution_count": 31,
   "id": "91132a62-9c8d-4dbc-a18f-fa42680c4c3e",
   "metadata": {},
   "outputs": [],
   "source": [
    "def analyse_solution(m,x,y,z):\n",
    "\n",
    "    totalCost = sum([Cr * m.getSolution(x[p]) for p in P]) + Cloc * m.getSolution(z)\n",
    "    print(totalCost)\n",
    "    ccs_loc = [int(m.getSolution(x[i])) for i in P]\n",
    "    print(ccs_loc)\n",
    "    sailings = {(a[0],a[1]):int(m.getSolution(y[(a[0],a[1])])) for a in A}\n",
    "    print(sailings)\n",
    "    long_dist = m.getSolution(z)\n",
    "    print(long_dist)\n",
    "    \n",
    "    path = [k for k in sailings.keys() if sailings[k] is 1]\n",
    "    return path\n"
   ]
  },
  {
   "cell_type": "code",
   "execution_count": 61,
   "id": "1f4015ca-ac51-4367-9295-0e1cd0224dba",
   "metadata": {},
   "outputs": [
    {
     "name": "stdout",
     "output_type": "stream",
     "text": [
      "\n",
      "530.0\n",
      "[1, 0, 1, 0, 1, 1]\n",
      "{(0, 1): 1, (0, 2): 0, (0, 3): 0, (0, 4): 0, (0, 5): 0, (1, 2): 1, (1, 3): 0, (1, 4): 0, (1, 5): 0, (2, 3): 0, (2, 4): 1, (2, 5): 0, (3, 4): 0, (3, 5): 0, (4, 5): 1}\n",
      "140.00000000000003\n"
     ]
    }
   ],
   "source": [
    "legs = [70,120,60,80,70]\n",
    "Cr = 50\n",
    "Cloc =2\n",
    "    \n",
    "nP = len(legs)+1\n",
    "P = [p for p in range(nP)]\n",
    "A = [(i,j) for i in range(nP) for j in range(i+1,nP)]\n",
    "\n",
    "m,x,y,z,d = ccs_model(Cr,Cloc,legs)\n",
    "path = analyse_solution(m,x,y,z)"
   ]
  },
  {
   "cell_type": "code",
   "execution_count": 62,
   "id": "00521049-c843-4e76-9da8-31949f689220",
   "metadata": {},
   "outputs": [
    {
     "data": {
      "text/plain": [
       "[(0, 1), (1, 2), (2, 4), (4, 5)]"
      ]
     },
     "execution_count": 62,
     "metadata": {},
     "output_type": "execute_result"
    }
   ],
   "source": [
    "path"
   ]
  },
  {
   "cell_type": "code",
   "execution_count": 63,
   "id": "b6104595-66e4-400d-b20d-ff5030c66d4a",
   "metadata": {},
   "outputs": [
    {
     "data": {
      "text/plain": [
       "[0, 1, 2, 3, 4, 5]"
      ]
     },
     "execution_count": 63,
     "metadata": {},
     "output_type": "execute_result"
    }
   ],
   "source": [
    "nP = len(legs)+1\n",
    "P = [p for p in range(nP)]\n",
    "A = [(i,j) for i in range(nP) for j in range(i+1,nP)]\n",
    "    \n",
    "d = {a:sum(legs[a[0]:a[1]]) for a in A}\n",
    "P"
   ]
  },
  {
   "cell_type": "code",
   "execution_count": 64,
   "id": "76ef226e-6d9d-4c0b-bcb3-ee059687843d",
   "metadata": {},
   "outputs": [],
   "source": [
    "import networkx as nx\n",
    "import numpy as np\n",
    "import random as rnd"
   ]
  },
  {
   "cell_type": "code",
   "execution_count": 65,
   "id": "2f0aff01-7e45-4a59-a1a5-0842f6a17eae",
   "metadata": {},
   "outputs": [
    {
     "data": {
      "text/plain": [
       "{(0, 1): Text(0.5, -3.0, '70'),\n",
       " (0, 2): Text(1.0, -7.5, '190'),\n",
       " (0, 3): Text(1.5, 10.0, '250'),\n",
       " (0, 4): Text(2.0, -7.5, '330'),\n",
       " (0, 5): Text(3.0, 0.0, '400'),\n",
       " (1, 2): Text(1.5, -10.5, '120'),\n",
       " (1, 3): Text(2.0, 7.0, '180'),\n",
       " (1, 4): Text(2.5, -10.5, '260'),\n",
       " (1, 5): Text(3.5, -3.0, '330'),\n",
       " (2, 3): Text(2.5, 2.5, '60'),\n",
       " (2, 4): Text(3.0, -15.0, '140'),\n",
       " (2, 5): Text(4.0, -7.5, '210'),\n",
       " (3, 4): Text(3.5, 2.5, '80'),\n",
       " (3, 5): Text(4.5, 10.0, '150'),\n",
       " (4, 5): Text(5.0, -7.5, '70')}"
      ]
     },
     "execution_count": 65,
     "metadata": {},
     "output_type": "execute_result"
    },
    {
     "data": {
      "image/png": "[encoded data removed]",
      "text/plain": [
       "<Figure size 432x288 with 1 Axes>"
      ]
     },
     "metadata": {},
     "output_type": "display_data"
    }
   ],
   "source": [
    "G = nx.DiGraph()\n",
    "arcsData = [(a[0],a[1],d[a]) for a in A]\n",
    "G.add_weighted_edges_from(arcsData)\n",
    "\n",
    "l = len(P)\n",
    "pos = {p: np.array((p,rnd.randint(-5,5)*(l+1-p))) for p in P[1:-1]}\n",
    "pos[0] = np.array((0,0))\n",
    "pos[l-1] = np.array((l,0))\n",
    "\n",
    "options = {'node_color': 'cyan','node_size': 800,'width': 2}\n",
    "\n",
    "nx.draw(G,pos, with_labels=True, **options)\n",
    "dist = {(e[0],e[1]):str(G.edges[e[0],e[1]]['weight']) for e in list(G.edges())}\n",
    "nx.draw_networkx_edge_labels(G,pos,edge_labels=dist,font_color='red')"
   ]
  },
  {
   "cell_type": "markdown",
   "id": "72cb9dd9-cdd7-4f33-a476-f555a5ce7581",
   "metadata": {},
   "source": [
    "## The optimal solution"
   ]
  },
  {
   "cell_type": "code",
   "execution_count": 66,
   "id": "283459b7-681b-4dc5-9a89-69112d0f2745",
   "metadata": {},
   "outputs": [
    {
     "data": {
      "text/plain": [
       "{(0, 1): Text(0.5, -3.0, '70'),\n",
       " (0, 2): Text(1.0, -7.5, '190'),\n",
       " (0, 3): Text(1.5, 10.0, '250'),\n",
       " (0, 4): Text(2.0, -7.5, '330'),\n",
       " (0, 5): Text(3.0, 0.0, '400'),\n",
       " (1, 2): Text(1.5, -10.5, '120'),\n",
       " (1, 3): Text(2.0, 7.0, '180'),\n",
       " (1, 4): Text(2.5, -10.5, '260'),\n",
       " (1, 5): Text(3.5, -3.0, '330'),\n",
       " (2, 3): Text(2.5, 2.5, '60'),\n",
       " (2, 4): Text(3.0, -15.0, '140'),\n",
       " (2, 5): Text(4.0, -7.5, '210'),\n",
       " (3, 4): Text(3.5, 2.5, '80'),\n",
       " (3, 5): Text(4.5, 10.0, '150'),\n",
       " (4, 5): Text(5.0, -7.5, '70')}"
      ]
     },
     "execution_count": 66,
     "metadata": {},
     "output_type": "execute_result"
    },
    {
     "data": {
      "image/png": "[encoded data removed]",
      "text/plain": [
       "<Figure size 432x288 with 1 Axes>"
      ]
     },
     "metadata": {},
     "output_type": "display_data"
    }
   ],
   "source": [
    "nx.draw(G,pos, with_labels=True, **options)\n",
    "#shortPath = [(path[i],path[i-1]) for i in range(len(path)-1,0,-1)]\n",
    "nx.draw_networkx_edges(G,pos,edgelist=path,width=5,edge_color='red')\n",
    "nx.draw_networkx_edge_labels(G,pos,edge_labels=dist,font_color='blue')"
   ]
  },
  {
   "cell_type": "code",
   "execution_count": null,
   "id": "943d4f4b-c260-4812-9766-00127d4af57d",
   "metadata": {},
   "outputs": [],
   "source": []
  }
 ],
 "metadata": {
  "kernelspec": {
   "display_name": "Python 3 (ipykernel)",
   "language": "python",
   "name": "python3"
  },
  "language_info": {
   "codemirror_mode": {
    "name": "ipython",
    "version": 3
   },
   "file_extension": ".py",
   "mimetype": "text/x-python",
   "name": "python",
   "nbconvert_exporter": "python",
   "pygments_lexer": "ipython3",
   "version": "3.7.4"
  }
 },
 "nbformat": 4,
 "nbformat_minor": 5
}
