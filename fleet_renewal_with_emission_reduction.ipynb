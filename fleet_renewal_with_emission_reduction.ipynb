{
 "cells": [
  {
   "cell_type": "code",
   "execution_count": 1,
   "id": "e4d44952-61a9-46ca-ad7b-05fd1228d6b1",
   "metadata": {},
   "outputs": [
    {
     "name": "stdout",
     "output_type": "stream",
     "text": [
      "Using the license file found in your Xpress installation. If you want to use this license and no longer want to see this message, use the following code before using the xpress module:\n",
      "  xpress.init('/Applications/FICO Xpress/xpressmp/bin/xpauth.xpr')\n"
     ]
    }
   ],
   "source": [
    "import xpress as xp\n",
    "import pandas as pd\n",
    "xp.controls.outputlog = 0"
   ]
  },
  {
   "cell_type": "markdown",
   "id": "7b67247a-db08-4383-93b3-c87157d02bfd",
   "metadata": {
    "tags": []
   },
   "source": [
    "## Problem narrative: Fleet retrofit and renewal over fixed time horizon with stepwise reduction of emissions\n",
    "\n",
    "According to the Clydebank declaration, a \"green corridor\" is a zero-emission route between two ports. The realization of green corridors will most likely involve multiple stakeholders, including shipowners, cargo owners, fuel providers, ports, regulators, and will be financed both by private and public funding.\n",
    "\n",
    "Here, we first consider a subset of the green corridor problem by finding the cost-minimum introduction of emission reduction options for a fixed fleet over a set of time periods with a stepwise reduction of the total emissions from the fleet."
   ]
  },
  {
   "cell_type": "markdown",
   "id": "ada3479d-849d-47b1-a174-80c4410e4543",
   "metadata": {},
   "source": [
    "## Problem outline\n",
    "\n",
    "We consider a heterogenous fleet of vessels sailing between two ports or regions. The total capacity of the fleet is sufficient to transport the required annual volume. Each vessel has a current emission level. These emissions can be reduced by retrofits that gives a certain percentage reduction in emissions. The retrofits have both an investment cost that is due on the time period it is introduced, and a fixed operational cost each time period thereafter. The replacement of an exiting ship with a new one with the same annual capacity can also be modeled as a retrofit. The total emissions from the fleet must be below the emission target, $E_t$, and we assume a stepwise tightening of this target, \\"
   ]
  },
  {
   "cell_type": "markdown",
   "id": "2ac6009c-d01d-4e52-97a8-d0cd2c388a46",
   "metadata": {},
   "source": [
    "#### Sets\n",
    "<table align='left'>\n",
    "<tr><td>$V$</td><td>The set of vessels in the fleet, indexed by $v$</td></tr>\n",
    "<tr><td>$A$</td><td>The set of emission abatement options, indexed by $a$</td></tr>\n",
    "<tr><td>$T$</td><td>The set of time period in the planning horizon, indexed by $t$</td></tr>\n",
    "</table>"
   ]
  },
  {
   "cell_type": "markdown",
   "id": "e19d346e-e948-4fe0-b14b-0639c1c0cb23",
   "metadata": {},
   "source": [
    "#### Parameters \n",
    "\n",
    "<table align='left'>\n",
    "<tr><td>$E^V_v$</td><td>The emissions from vessel $v$ at the start of the planning period</td></tr> \n",
    "<tr><td>$\\gamma_a$</td><td>The emission reduction effect of abatement option $a$</td></tr> \n",
    "<tr><td>$C^{AI}_{a}$</td><td>The installation cost of introducing abatement option $a$</td></tr>\n",
    "<tr><td>$C^{AO}_{a}$</td><td>The annual operation cost of introducing abatement option $a$</td></tr>\n",
    "<tr><td>$E^{TOT}_t$</td><td>Total allowed emissions for time period $t$</td></tr>\n",
    "</table>"
   ]
  },
  {
   "cell_type": "markdown",
   "id": "43bebc09-4589-415d-a2e0-614d49d6f788",
   "metadata": {},
   "source": [
    "#### Variables\n",
    "\n",
    "$x_{vat}$    1 if abatement option $a$ is being installed on vessel $v$ in time period $t$\n",
    "\n",
    "$y_{vat}$    1 if abatement option $a$ is already installed on vessel $v$ in time period $t$"
   ]
  },
  {
   "cell_type": "markdown",
   "id": "698f7e20-02d0-4040-91bd-a4a3d7cef5f3",
   "metadata": {
    "jp-MarkdownHeadingCollapsed": true,
    "tags": []
   },
   "source": [
    "#### Model\n",
    "<table align='left'>\n",
    "<tr><td colspan=3>$$ min \\sum_{v \\in V} \\sum_{a \\in A}  \\sum_{t \\in T} (C^{AI}_{a} x_{vat} + C^{AO}_{a} y_{vat})$$</td></tr>\n",
    "<tr><td align='left'>subject to</td></tr>\n",
    "<tr><td>$$\\sum_{v\\in V} (E^V_v - \\sum_{a\\in A}\\gamma_a E^V_v y_{vat}) \\le E^{TOT}_t,$$</td><td>$$t\\in T$$</td><td>(1)</td></tr> \n",
    "<tr><td>$$\\sum_{t\\in T}x_{vat}\\le 1,$$</td><td>$$v\\in V, a\\in A$$</td><td>(2)</td></tr> \n",
    "<tr><td>$$M \\sum_{t\\in T}x_{vat}\\ge \\sum_{t\\in T}y_{vat},$$</td><td>$$v\\in V, a\\in A$$</td><td>(3)</td></tr> \n",
    "<tr><td>$$y_{vat} \\ge x_{va(t-1)},$$</td><td>$$v\\in V, a\\in A, t\\in T/\\{0\\}$$</td><td>(4)</td></tr> \n",
    "<tr><td>$$y_{vat} \\ge y_{va(t-1)},$$</td><td>$$v\\in V, a\\in A, t\\in T/\\{0\\}$$</td><td>(5)</td></tr> \n",
    "<tr><td>$$y_{vat} - y_{va(t-1)} = x_{vat},$$</td><td>$$v\\in V, a\\in A, t\\in T/\\{0\\}$$</td><td>(6)</td></tr> \n",
    "<tr><td>$$x_{vat} = 0$$</td><td>$$v\\in V, a\\in A, t=N^t$$</td><td>(7)</td></tr> \n",
    "<tr><td>$$x_{vat} \\in \\{0,1\\},$$</td><td>$$v\\in V, a\\in A, t\\in T$$</td><td>(8)</td></tr> \n",
    "<tr><td>$$y_{vat} \\in \\{0,1\\},$$</td><td>$$v\\in V, a\\in A, t\\in T$$</td><td>(9)</td></tr> \n",
    "</table>"
   ]
  },
  {
   "cell_type": "markdown",
   "id": "70807c91-484f-4904-b85b-65465f45f69b",
   "metadata": {},
   "source": [
    "#### Explanation of model\n",
    "\n",
    "(1) The total emissions from the fleet for a particular year must be less than the total allowed<br>\n",
    "(2) A specific emission abatement option can only be introduced once during the planning horizon<br>\n",
    "(3) (Technical) Make sure that an abatement option is installed if it is used<br>\n",
    "(4) The abatement option is put into use the same time period that it is installed<br>\n",
    "(5) When installed and put into use, it will be used for the remaining time periods<br>\n",
    "(6) Force x to 1 when y switches from 0 to 1<br>\n",
    "(7) No abatement options in last time period (required from a technical period)<br>\n",
    "(8,9) Binary constraints"
   ]
  },
  {
   "cell_type": "code",
   "execution_count": 14,
   "id": "baa608d0-1539-4758-893a-2296f2341d64",
   "metadata": {
    "tags": []
   },
   "outputs": [],
   "source": [
    "# The xpress implementation of the model described above\n",
    "def gc_fleet_model(dfV,dfA,dfT):\n",
    "    \n",
    "    nV = dfV.shape[0]    \n",
    "    nA = dfA.shape[0]    \n",
    "    nT = dfT.shape[0]\n",
    "\n",
    "    V = [v for v in range(nV)]\n",
    "    A = [a for a in range(nA)]\n",
    "    T = [t for t in range(nT)]\n",
    "\n",
    "    bigM = 1000\n",
    "\n",
    "    p = xp.problem()\n",
    "\n",
    "    x = {(v,a,t): xp.var (vartype = xp.binary, name='x{0}{1}{2}'.format (v,a,t)) for t in T for a in A for v in V}\n",
    "    y = {(v,a,t): xp.var (vartype = xp.binary, name='y{0}{1}{2}'.format (v,a,t)) for t in T for a in A for v in V}\n",
    "    p.addVariable(x,y)\n",
    "    #m.addVariable(y)\n",
    "\n",
    "    # Objective function\n",
    "    totCost = xp.Sum(dfA.C_I[a]*x[v,a,t] + dfA.C_O[a]*y[v,a,t] for v in V for a in A for t in T)\n",
    "    p.setObjective(totCost, sense = xp.minimize)\n",
    "\n",
    "    # Contraints 1: Max total annual emissions\n",
    "    c1 = [xp.Sum(dfV.E[v] - xp.Sum(dfA.Red[a]*dfV.E[v]*y[v,a,t] for a in A) for v in V) <= dfT.E_req[t] for t in T]\n",
    "\n",
    "    # Constraints 2: One particular abatement option used only once for each vessel\n",
    "    c2 = [xp.Sum(x[v,a,t] for t in T) <= 1 for a in A for v in V]\n",
    "\n",
    "    # Constraints 3: We must ensure that at x is 1 if at least one y is 1\n",
    "    c3 = [bigM * xp.Sum(x[v,a,t] for t in T) >= xp.Sum(y[v,a,t] for t in T) for a in A for v in V]\n",
    "\n",
    "    # Constraint 4: Abatement option installation triggers option use indicator\n",
    "    c4 = [y[v,a,t] >= x[v,a,t] for t in T for a in A for v in V]\n",
    "\n",
    "    # Constraint 5: Once triggered, option use indicator should last remaining time horison\n",
    "    c5 = [y[v,a,t] >= y[v,a,t-1] for t in T[1:] for a in A for v in V]\n",
    "\n",
    "    # Constraint 6: Abatement option installation triggers option use indicator\n",
    "    # When y switches from 0 to 1, this triggers x=1, else x=0\n",
    "    c6 = [y[v,a,t] - y[v,a,(t-1)] == x[v,a,t] for t in T[1:] for a in A for v in V]\n",
    "    \n",
    "    # Constraint 7: Abatement option should not be installed in last period\n",
    "    c7 = [x[v,a,t] == 0 for t in T[-1:] for a in A for v in V]\n",
    "\n",
    "    p.addConstraint(c1,c2,c3,c4,c5,c6,c7)\n",
    "\n",
    "    xp.controls.outputlog = 0\n",
    "    p.solve()\n",
    "    \n",
    "    return p,x,y"
   ]
  },
  {
   "cell_type": "code",
   "execution_count": 15,
   "id": "2222ff05-7b74-4c5a-bab1-b7526893256c",
   "metadata": {
    "tags": []
   },
   "outputs": [],
   "source": [
    "# Datasets for testing the model\n",
    "dfV = pd.DataFrame.from_dict({'name':['v1','v2','v3'], 'E':[100,100,100]})\n",
    "dfA = pd.DataFrame.from_dict({'name':['a1','a2','a3'], 'Red':[0.3,0.5,1.0], 'C_I':[20,40,110], 'C_O':[3,4,5]})\n",
    "dfT = pd.DataFrame.from_dict({'year':[0,1,2,3,4,5,6,7], 'E_req':[290,280,260,200,150,120,80,40]})"
   ]
  },
  {
   "cell_type": "code",
   "execution_count": 16,
   "id": "da944680-53d2-4fe3-ad8b-a75bc8765bef",
   "metadata": {},
   "outputs": [
    {
     "data": {
      "text/html": [
       "<div>\n",
       "<style scoped>\n",
       "    .dataframe tbody tr th:only-of-type {\n",
       "        vertical-align: middle;\n",
       "    }\n",
       "\n",
       "    .dataframe tbody tr th {\n",
       "        vertical-align: top;\n",
       "    }\n",
       "\n",
       "    .dataframe thead th {\n",
       "        text-align: right;\n",
       "    }\n",
       "</style>\n",
       "<table border=\"1\" class=\"dataframe\">\n",
       "  <thead>\n",
       "    <tr style=\"text-align: right;\">\n",
       "      <th></th>\n",
       "      <th>name</th>\n",
       "      <th>E</th>\n",
       "    </tr>\n",
       "  </thead>\n",
       "  <tbody>\n",
       "    <tr>\n",
       "      <th>0</th>\n",
       "      <td>v1</td>\n",
       "      <td>100</td>\n",
       "    </tr>\n",
       "    <tr>\n",
       "      <th>1</th>\n",
       "      <td>v2</td>\n",
       "      <td>100</td>\n",
       "    </tr>\n",
       "    <tr>\n",
       "      <th>2</th>\n",
       "      <td>v3</td>\n",
       "      <td>100</td>\n",
       "    </tr>\n",
       "  </tbody>\n",
       "</table>\n",
       "</div>"
      ],
      "text/plain": [
       "  name    E\n",
       "0   v1  100\n",
       "1   v2  100\n",
       "2   v3  100"
      ]
     },
     "execution_count": 16,
     "metadata": {},
     "output_type": "execute_result"
    }
   ],
   "source": [
    "dfV"
   ]
  },
  {
   "cell_type": "code",
   "execution_count": 4,
   "id": "e39e1e92-6965-4c6a-9050-536fa85b8da9",
   "metadata": {},
   "outputs": [],
   "source": [
    "p,x,y = gc_fleet_model(dfV,dfA,dfT)"
   ]
  },
  {
   "cell_type": "code",
   "execution_count": 5,
   "id": "63ec807f-bf91-4257-bd7a-7cbabf5f044e",
   "metadata": {
    "tags": []
   },
   "outputs": [],
   "source": [
    "p.write (\"problem1\", \"lp\") # Write the model to file"
   ]
  },
  {
   "cell_type": "code",
   "execution_count": 6,
   "id": "b5f9b954-32df-4d00-9591-0701860c450f",
   "metadata": {},
   "outputs": [],
   "source": [
    "def analyseSolution(p,x,y,dfV,dfA,dfT):\n",
    "    V = [v for v in range(dfV.shape[0])]\n",
    "    A = [a for a in range(dfA.shape[0])]\n",
    "    T = [t for t in range(dfT.shape[0])]\n",
    "    \n",
    "    annualInvCost = [sum([dfA.C_I[a]*p.getSolution(x[v,a,t]) for a in A for v in V]) for t in T]\n",
    "    annualOpCost = [sum([dfA.C_O[a]*p.getSolution(y[v,a,t]) for a in A for v in V]) for t in T]\n",
    "    annualEmissions = [sum([dfV.E[v] - sum([dfA.Red[a]*dfV.E[v]*p.getSolution(y[v,a,t]) for a in A]) for v in V]) for t in T]\n",
    "    \n",
    "    dfRes = pd.DataFrame.from_dict({'year':T, 'C_I':annualInvCost, 'C_O':annualOpCost, 'E':annualEmissions, 'E_req':dfT.E_req})\n",
    "    dfRes['C_TOT'] = dfRes.C_I + dfRes.C_O\n",
    "\n",
    "    solX = [[[int(p.getSolution(x[v,a,t])) for t in T] for a in A] for v in V]\n",
    "    solY = [[[int(p.getSolution(y[v,a,t])) for t in T] for a in A] for v in V]\n",
    "\n",
    "    # Add textual description of abatement installations\n",
    "    txt = [['{} {}'.format(dfA.name[a], dfV.name[v]) for a in A for v in V if solX[v][a][t] == 1]  for t in T]\n",
    "    dfRes['Descr'] = txt\n",
    "    \n",
    "    return dfRes,solX, solY"
   ]
  },
  {
   "cell_type": "code",
   "execution_count": 7,
   "id": "7f0595fd-11bc-45d7-907b-5e895a274e7d",
   "metadata": {
    "tags": []
   },
   "outputs": [
    {
     "data": {
      "text/html": [
       "<div>\n",
       "<style scoped>\n",
       "    .dataframe tbody tr th:only-of-type {\n",
       "        vertical-align: middle;\n",
       "    }\n",
       "\n",
       "    .dataframe tbody tr th {\n",
       "        vertical-align: top;\n",
       "    }\n",
       "\n",
       "    .dataframe thead th {\n",
       "        text-align: right;\n",
       "    }\n",
       "</style>\n",
       "<table border=\"1\" class=\"dataframe\">\n",
       "  <thead>\n",
       "    <tr style=\"text-align: right;\">\n",
       "      <th></th>\n",
       "      <th>year</th>\n",
       "      <th>C_I</th>\n",
       "      <th>C_O</th>\n",
       "      <th>E</th>\n",
       "      <th>E_req</th>\n",
       "      <th>C_TOT</th>\n",
       "      <th>Descr</th>\n",
       "    </tr>\n",
       "  </thead>\n",
       "  <tbody>\n",
       "    <tr>\n",
       "      <th>0</th>\n",
       "      <td>0</td>\n",
       "      <td>110.0</td>\n",
       "      <td>5.0</td>\n",
       "      <td>200.0</td>\n",
       "      <td>290</td>\n",
       "      <td>115.0</td>\n",
       "      <td>[a3 v2]</td>\n",
       "    </tr>\n",
       "    <tr>\n",
       "      <th>1</th>\n",
       "      <td>1</td>\n",
       "      <td>0.0</td>\n",
       "      <td>5.0</td>\n",
       "      <td>200.0</td>\n",
       "      <td>280</td>\n",
       "      <td>5.0</td>\n",
       "      <td>[]</td>\n",
       "    </tr>\n",
       "    <tr>\n",
       "      <th>2</th>\n",
       "      <td>2</td>\n",
       "      <td>0.0</td>\n",
       "      <td>5.0</td>\n",
       "      <td>200.0</td>\n",
       "      <td>260</td>\n",
       "      <td>5.0</td>\n",
       "      <td>[]</td>\n",
       "    </tr>\n",
       "    <tr>\n",
       "      <th>3</th>\n",
       "      <td>3</td>\n",
       "      <td>0.0</td>\n",
       "      <td>5.0</td>\n",
       "      <td>200.0</td>\n",
       "      <td>200</td>\n",
       "      <td>5.0</td>\n",
       "      <td>[]</td>\n",
       "    </tr>\n",
       "    <tr>\n",
       "      <th>4</th>\n",
       "      <td>4</td>\n",
       "      <td>40.0</td>\n",
       "      <td>9.0</td>\n",
       "      <td>150.0</td>\n",
       "      <td>150</td>\n",
       "      <td>49.0</td>\n",
       "      <td>[a2 v1]</td>\n",
       "    </tr>\n",
       "    <tr>\n",
       "      <th>5</th>\n",
       "      <td>5</td>\n",
       "      <td>20.0</td>\n",
       "      <td>12.0</td>\n",
       "      <td>120.0</td>\n",
       "      <td>120</td>\n",
       "      <td>32.0</td>\n",
       "      <td>[a1 v2]</td>\n",
       "    </tr>\n",
       "    <tr>\n",
       "      <th>6</th>\n",
       "      <td>6</td>\n",
       "      <td>60.0</td>\n",
       "      <td>19.0</td>\n",
       "      <td>40.0</td>\n",
       "      <td>80</td>\n",
       "      <td>79.0</td>\n",
       "      <td>[a1 v3, a2 v3]</td>\n",
       "    </tr>\n",
       "    <tr>\n",
       "      <th>7</th>\n",
       "      <td>7</td>\n",
       "      <td>0.0</td>\n",
       "      <td>19.0</td>\n",
       "      <td>40.0</td>\n",
       "      <td>40</td>\n",
       "      <td>19.0</td>\n",
       "      <td>[]</td>\n",
       "    </tr>\n",
       "  </tbody>\n",
       "</table>\n",
       "</div>"
      ],
      "text/plain": [
       "   year    C_I   C_O      E  E_req  C_TOT           Descr\n",
       "0     0  110.0   5.0  200.0    290  115.0         [a3 v2]\n",
       "1     1    0.0   5.0  200.0    280    5.0              []\n",
       "2     2    0.0   5.0  200.0    260    5.0              []\n",
       "3     3    0.0   5.0  200.0    200    5.0              []\n",
       "4     4   40.0   9.0  150.0    150   49.0         [a2 v1]\n",
       "5     5   20.0  12.0  120.0    120   32.0         [a1 v2]\n",
       "6     6   60.0  19.0   40.0     80   79.0  [a1 v3, a2 v3]\n",
       "7     7    0.0  19.0   40.0     40   19.0              []"
      ]
     },
     "execution_count": 7,
     "metadata": {},
     "output_type": "execute_result"
    }
   ],
   "source": [
    "dfRes, solX, solY = analyseSolution(p,x,y,dfV,dfA,dfT)\n",
    "dfRes"
   ]
  },
  {
   "cell_type": "code",
   "execution_count": 8,
   "id": "d13fb2ca-ac76-49a5-bc95-993889749d38",
   "metadata": {},
   "outputs": [
    {
     "data": {
      "text/plain": [
       "[[[0, 0, 0, 0, 0, 0, 0, 0],\n",
       "  [0, 0, 0, 0, 1, 0, 0, 0],\n",
       "  [0, 0, 0, 0, 0, 0, 0, 0]],\n",
       " [[0, 0, 0, 0, 0, 1, 0, 0],\n",
       "  [0, 0, 0, 0, 0, 0, 0, 0],\n",
       "  [1, 0, 0, 0, 0, 0, 0, 0]],\n",
       " [[0, 0, 0, 0, 0, 0, 1, 0],\n",
       "  [0, 0, 0, 0, 0, 0, 1, 0],\n",
       "  [0, 0, 0, 0, 0, 0, 0, 0]]]"
      ]
     },
     "execution_count": 8,
     "metadata": {},
     "output_type": "execute_result"
    }
   ],
   "source": [
    "solX #For verifying x values in solution"
   ]
  },
  {
   "cell_type": "code",
   "execution_count": 9,
   "id": "7daaf6f9-b9a8-4df6-a076-297aed0f77bc",
   "metadata": {},
   "outputs": [
    {
     "data": {
      "text/plain": [
       "[[[0, 0, 0, 0, 0, 0, 0, 0],\n",
       "  [0, 0, 0, 0, 1, 1, 1, 1],\n",
       "  [0, 0, 0, 0, 0, 0, 0, 0]],\n",
       " [[0, 0, 0, 0, 0, 1, 1, 1],\n",
       "  [0, 0, 0, 0, 0, 0, 0, 0],\n",
       "  [1, 1, 1, 1, 1, 1, 1, 1]],\n",
       " [[0, 0, 0, 0, 0, 0, 1, 1],\n",
       "  [0, 0, 0, 0, 0, 0, 1, 1],\n",
       "  [0, 0, 0, 0, 0, 0, 0, 0]]]"
      ]
     },
     "execution_count": 9,
     "metadata": {},
     "output_type": "execute_result"
    }
   ],
   "source": [
    "solY # For veryfing y values in solution (to be consistent with x)"
   ]
  },
  {
   "cell_type": "code",
   "execution_count": 10,
   "id": "afcba47d-e271-4977-a332-1ee2e10e91a9",
   "metadata": {},
   "outputs": [
    {
     "data": {
      "image/png": "[encoded data removed]",
      "text/plain": [
       "<Figure size 864x576 with 2 Axes>"
      ]
     },
     "metadata": {
      "needs_background": "light"
     },
     "output_type": "display_data"
    }
   ],
   "source": [
    "def plotRes(dfRes):\n",
    "    import matplotlib.pyplot as plt\n",
    "\n",
    "    # First, drop sum row if it is there\n",
    "    if 'Sum' in dfRes.index:\n",
    "        dfRes.drop(labels=['Sum'], axis=0, inplace=True)\n",
    "    \n",
    "    fig, ax1 = plt.subplots(figsize=(12, 8))\n",
    "    dfRes.C_I.plot(kind='bar', color='y', stacked=False, secondary_y=True)\n",
    "    dfRes.C_O.plot(kind='bar', color='g', stacked=False, secondary_y=True)\n",
    "    dfRes.E.plot(kind='line', marker='d')\n",
    "    dfRes.E_req.plot(kind='line', marker='d')\n",
    "\n",
    "plotRes(dfRes)"
   ]
  },
  {
   "cell_type": "code",
   "execution_count": 11,
   "id": "5e00e01e-a44e-4d50-ab32-b29bdd2ad8bc",
   "metadata": {
    "tags": []
   },
   "outputs": [],
   "source": [
    "#print('Status.: ', p.getProbStatusString())\n",
    "#print('Sol.: ', p.getSolution())\n",
    "#print('Dual: ', p.getDual())\n",
    "#print('Obj. val.: ', p.getObjVal())\n",
    "#print('Red. cost: ', p.getRCost())\n",
    "#print('Slack: ', p.getSlack())"
   ]
  },
  {
   "cell_type": "markdown",
   "id": "e6bdd75d-5844-4d9e-a6bf-d68c1c485aa9",
   "metadata": {},
   "source": [
    "## A slightly larger problem"
   ]
  },
  {
   "cell_type": "code",
   "execution_count": 12,
   "id": "d8f9bf92-9ccc-4739-94c6-00e332d0b092",
   "metadata": {},
   "outputs": [],
   "source": [
    "# Datasets for testing\n",
    "nT = 10\n",
    "nV = 10\n",
    "dfV = pd.DataFrame.from_dict({'name':['Orias ' + str(v) for v in list(range(nV))], 'E':[100 for _ in list(range(nV))]})\n",
    "dfA = pd.DataFrame.from_dict({'name':['WASP','Ammonia','Replace'], 'Red':[0.3,0.5,1.0], 'C_I':[40,40,110], 'C_O':[2,4,3]})\n",
    "dfT = pd.DataFrame.from_dict({'year':list(range(nT)), 'E_req':[100*nT-70*t for t in range(nT)]})"
   ]
  },
  {
   "cell_type": "code",
   "execution_count": 19,
   "id": "d750f9b0-caf7-42fb-ba5e-d50e3571486d",
   "metadata": {},
   "outputs": [
    {
     "name": "stdout",
     "output_type": "stream",
     "text": [
      "\n"
     ]
    },
    {
     "data": {
      "text/html": [
       "<div>\n",
       "<style scoped>\n",
       "    .dataframe tbody tr th:only-of-type {\n",
       "        vertical-align: middle;\n",
       "    }\n",
       "\n",
       "    .dataframe tbody tr th {\n",
       "        vertical-align: top;\n",
       "    }\n",
       "\n",
       "    .dataframe thead th {\n",
       "        text-align: right;\n",
       "    }\n",
       "</style>\n",
       "<table border=\"1\" class=\"dataframe\">\n",
       "  <thead>\n",
       "    <tr style=\"text-align: right;\">\n",
       "      <th></th>\n",
       "      <th>year</th>\n",
       "      <th>C_I</th>\n",
       "      <th>C_O</th>\n",
       "      <th>E</th>\n",
       "      <th>E_req</th>\n",
       "      <th>C_TOT</th>\n",
       "      <th>Descr</th>\n",
       "    </tr>\n",
       "  </thead>\n",
       "  <tbody>\n",
       "    <tr>\n",
       "      <th>0</th>\n",
       "      <td>0</td>\n",
       "      <td>0.0</td>\n",
       "      <td>0.0</td>\n",
       "      <td>1000.0</td>\n",
       "      <td>1000</td>\n",
       "      <td>0.0</td>\n",
       "      <td>[]</td>\n",
       "    </tr>\n",
       "    <tr>\n",
       "      <th>1</th>\n",
       "      <td>1</td>\n",
       "      <td>110.0</td>\n",
       "      <td>3.0</td>\n",
       "      <td>900.0</td>\n",
       "      <td>930</td>\n",
       "      <td>113.0</td>\n",
       "      <td>[Replace Orias 4]</td>\n",
       "    </tr>\n",
       "    <tr>\n",
       "      <th>2</th>\n",
       "      <td>2</td>\n",
       "      <td>110.0</td>\n",
       "      <td>6.0</td>\n",
       "      <td>800.0</td>\n",
       "      <td>860</td>\n",
       "      <td>116.0</td>\n",
       "      <td>[Replace Orias 9]</td>\n",
       "    </tr>\n",
       "    <tr>\n",
       "      <th>3</th>\n",
       "      <td>3</td>\n",
       "      <td>40.0</td>\n",
       "      <td>8.0</td>\n",
       "      <td>770.0</td>\n",
       "      <td>790</td>\n",
       "      <td>48.0</td>\n",
       "      <td>[WASP Orias 9]</td>\n",
       "    </tr>\n",
       "    <tr>\n",
       "      <th>4</th>\n",
       "      <td>4</td>\n",
       "      <td>40.0</td>\n",
       "      <td>12.0</td>\n",
       "      <td>720.0</td>\n",
       "      <td>720</td>\n",
       "      <td>52.0</td>\n",
       "      <td>[Ammonia Orias 2]</td>\n",
       "    </tr>\n",
       "    <tr>\n",
       "      <th>5</th>\n",
       "      <td>5</td>\n",
       "      <td>80.0</td>\n",
       "      <td>20.0</td>\n",
       "      <td>620.0</td>\n",
       "      <td>650</td>\n",
       "      <td>100.0</td>\n",
       "      <td>[Ammonia Orias 0, Ammonia Orias 3]</td>\n",
       "    </tr>\n",
       "    <tr>\n",
       "      <th>6</th>\n",
       "      <td>6</td>\n",
       "      <td>40.0</td>\n",
       "      <td>24.0</td>\n",
       "      <td>570.0</td>\n",
       "      <td>580</td>\n",
       "      <td>64.0</td>\n",
       "      <td>[Ammonia Orias 8]</td>\n",
       "    </tr>\n",
       "    <tr>\n",
       "      <th>7</th>\n",
       "      <td>7</td>\n",
       "      <td>80.0</td>\n",
       "      <td>32.0</td>\n",
       "      <td>470.0</td>\n",
       "      <td>510</td>\n",
       "      <td>112.0</td>\n",
       "      <td>[Ammonia Orias 1, Ammonia Orias 7]</td>\n",
       "    </tr>\n",
       "    <tr>\n",
       "      <th>8</th>\n",
       "      <td>8</td>\n",
       "      <td>80.0</td>\n",
       "      <td>40.0</td>\n",
       "      <td>370.0</td>\n",
       "      <td>440</td>\n",
       "      <td>120.0</td>\n",
       "      <td>[Ammonia Orias 5, Ammonia Orias 6]</td>\n",
       "    </tr>\n",
       "    <tr>\n",
       "      <th>9</th>\n",
       "      <td>9</td>\n",
       "      <td>0.0</td>\n",
       "      <td>40.0</td>\n",
       "      <td>370.0</td>\n",
       "      <td>370</td>\n",
       "      <td>40.0</td>\n",
       "      <td>[]</td>\n",
       "    </tr>\n",
       "  </tbody>\n",
       "</table>\n",
       "</div>"
      ],
      "text/plain": [
       "   year    C_I   C_O       E  E_req  C_TOT                               Descr\n",
       "0     0    0.0   0.0  1000.0   1000    0.0                                  []\n",
       "1     1  110.0   3.0   900.0    930  113.0                   [Replace Orias 4]\n",
       "2     2  110.0   6.0   800.0    860  116.0                   [Replace Orias 9]\n",
       "3     3   40.0   8.0   770.0    790   48.0                      [WASP Orias 9]\n",
       "4     4   40.0  12.0   720.0    720   52.0                   [Ammonia Orias 2]\n",
       "5     5   80.0  20.0   620.0    650  100.0  [Ammonia Orias 0, Ammonia Orias 3]\n",
       "6     6   40.0  24.0   570.0    580   64.0                   [Ammonia Orias 8]\n",
       "7     7   80.0  32.0   470.0    510  112.0  [Ammonia Orias 1, Ammonia Orias 7]\n",
       "8     8   80.0  40.0   370.0    440  120.0  [Ammonia Orias 5, Ammonia Orias 6]\n",
       "9     9    0.0  40.0   370.0    370   40.0                                  []"
      ]
     },
     "execution_count": 19,
     "metadata": {},
     "output_type": "execute_result"
    }
   ],
   "source": [
    "p,x,y = gc_fleet_model(dfV,dfA,dfT)\n",
    "dfRes, solX, solY = analyseSolution(p,x,y,dfV,dfA,dfT)\n",
    "dfRes"
   ]
  },
  {
   "cell_type": "code",
   "execution_count": 14,
   "id": "90502cad-50ae-4967-9447-925745622306",
   "metadata": {},
   "outputs": [
    {
     "data": {
      "image/png": "[encoded data removed]",
      "text/plain": [
       "<Figure size 864x576 with 2 Axes>"
      ]
     },
     "metadata": {
      "needs_background": "light"
     },
     "output_type": "display_data"
    }
   ],
   "source": [
    "plotRes(dfRes)"
   ]
  }
 ],
 "metadata": {
  "kernelspec": {
   "display_name": "Python 3 (ipykernel)",
   "language": "python",
   "name": "python3"
  },
  "language_info": {
   "codemirror_mode": {
    "name": "ipython",
    "version": 3
   },
   "file_extension": ".py",
   "mimetype": "text/x-python",
   "name": "python",
   "nbconvert_exporter": "python",
   "pygments_lexer": "ipython3",
   "version": "3.7.4"
  }
 },
 "nbformat": 4,
 "nbformat_minor": 5
}
